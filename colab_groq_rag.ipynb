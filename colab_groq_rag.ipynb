{
  "cells": [
    {
      "cell_type": "markdown",
      "metadata": {
        "id": "view-in-github",
        "colab_type": "text"
      },
      "source": [
        "<a href=\"https://colab.research.google.com/github/vifirsanova/llm-tutorial/blob/main/colab_groq_rag.ipynb\" target=\"_parent\"><img src=\"https://colab.research.google.com/assets/colab-badge.svg\" alt=\"Open In Colab\"/></a>"
      ]
    },
    {
      "cell_type": "markdown",
      "id": "1e976632",
      "metadata": {
        "id": "1e976632"
      },
      "source": [
        "# 60‑минутный Colab‑туториал: Groq API + RAG + Telegram  \n",
        "\n",
        "- Быстрый старт с Groq API  \n",
        "- Углублённый RAG: FAISS + sentence‑transformers + LangChain (Groq как LLM provider)  \n",
        "- Поиск в БД и базовая валидация ответа  "
      ]
    },
    {
      "cell_type": "markdown",
      "id": "7dda15fb",
      "metadata": {
        "id": "7dda15fb"
      },
      "source": [
        "## Важно — перед запуском\n",
        "1. Этот ноутбук **не** использует локальные модели — все генерации идут через Groq API.  \n",
        "2. Вам понадобится Groq API ключ (создайте в консоли Groq Cloud).  \n",
        "3. Для Telegram‑бота нужен токен бота (через @BotFather).  \n",
        "4. Всё будет выполняться прямо в Colab — однако для работы бота вам нужно держать ноутбук запущенным (или деплоить на сервер)."
      ]
    },
    {
      "cell_type": "markdown",
      "id": "1c68e55c",
      "metadata": {
        "id": "1c68e55c"
      },
      "source": [
        "## 1) Установка зависимостей"
      ]
    },
    {
      "cell_type": "code",
      "execution_count": 1,
      "id": "a6827c86",
      "metadata": {
        "colab": {
          "base_uri": "https://localhost:8080/"
        },
        "id": "a6827c86",
        "outputId": "ac4d2738-18e1-4fc6-f586-d308ff67b796"
      },
      "outputs": [
        {
          "output_type": "stream",
          "name": "stdout",
          "text": [
            "\u001b[2K   \u001b[90m━━━━━━━━━━━━━━━━━━━━━━━━━━━━━━━━━━━━━━━━\u001b[0m \u001b[32m131.4/131.4 kB\u001b[0m \u001b[31m4.9 MB/s\u001b[0m eta \u001b[36m0:00:00\u001b[0m\n",
            "\u001b[2K   \u001b[90m━━━━━━━━━━━━━━━━━━━━━━━━━━━━━━━━━━━━━━━━\u001b[0m \u001b[32m31.4/31.4 MB\u001b[0m \u001b[31m23.5 MB/s\u001b[0m eta \u001b[36m0:00:00\u001b[0m\n",
            "\u001b[?25h"
          ]
        }
      ],
      "source": [
        "!pip install --quiet groq langchain langchain-groq sentence-transformers faiss-cpu tiktoken"
      ]
    },
    {
      "cell_type": "markdown",
      "id": "354e6aaa",
      "metadata": {
        "id": "354e6aaa"
      },
      "source": [
        "## 2) Быстрый старт с Groq API"
      ]
    },
    {
      "cell_type": "code",
      "execution_count": 2,
      "id": "f6fb5f3b",
      "metadata": {
        "colab": {
          "base_uri": "https://localhost:8080/",
          "height": 245
        },
        "id": "f6fb5f3b",
        "outputId": "a5072b3d-6893-4fdb-f020-7ad38d4ce7b4"
      },
      "outputs": [
        {
          "output_type": "display_data",
          "data": {
            "text/plain": [
              "<IPython.core.display.Markdown object>"
            ],
            "text/markdown": "**HTML** (HyperText Markup Language) — это язык разметки гипертекста, который используется для создания веб-страниц и других онлайн-документов. Проще говоря, это способ рассказать компьютеру, как отображать текст, изображения и другие элементы на веб-странице.\n\nПредставь, что ты пишешь письмо на бумаге. Ты используешь разные цвета чернил, шрифты и форматирование, чтобы сделать текст более читаемым и интересным. HTML работает примерно так же, но вместо чернил и бумаги он использует специальные команды (теги), чтобы сказать компьютеру, как отображать контент на веб-странице.\n\nНапример, если ты хочешь сделать текст жирным, ты можешь использовать тег `<b>`. Если ты хочешь добавить изображение, ты можешь использовать тег `<img>`. HTML состоит из множества таких тегов, которые позволяют создавать разные элементы на веб-странице.\n\nКогда ты создаешь веб-страницу с помощью HTML, компьютер интерпретирует эти теги и отображает контент на экране в соответствии с твоими инструкциями. Это позволяет создавать веб-страницы с разным содержимым, оформлением и интерактивными элементами.\n\nВ целом, HTML — это фундаментальный язык для создания веб-страниц и онлайн-документов, который позволяет разработчикам создавать и структурировать контент для интернета."
          },
          "metadata": {}
        }
      ],
      "source": [
        "import os, getpass\n",
        "from google.colab import userdata\n",
        "from groq import Groq\n",
        "from IPython.display import Markdown\n",
        "\n",
        "try:\n",
        "    os.environ['GROQ_API_KEY'] = userdata.get('GROQ_API_KEY')\n",
        "except Exception as e:\n",
        "    os.environ['GROQ_API_KEY'] = getpass.getpass('Введите ваш GROQ_API_KEY (скрыто): ')\n",
        "\n",
        "client = Groq(api_key=os.environ['GROQ_API_KEY'])\n",
        "\n",
        "def groq_chat(prompt, model='meta-llama/llama-4-scout-17b-16e-instruct'):\n",
        "    messages = [{'role': 'user', 'content': prompt}]\n",
        "    resp = client.chat.completions.create(model=model, messages=messages, max_tokens=300, temperature=0.2)\n",
        "    return resp.choices[0].message.content\n",
        "\n",
        "display(Markdown(groq_chat(\"Объясни простыми словами, что такое HTML.\")))"
      ]
    },
    {
      "cell_type": "markdown",
      "id": "d8cddc7b",
      "metadata": {
        "id": "d8cddc7b"
      },
      "source": [
        "## 3) Управление диалогом с историей сообщений"
      ]
    },
    {
      "cell_type": "code",
      "source": [
        "# Простейший менеджер диалога (подходит для небольших сессий)\n",
        "dialogue = []\n",
        "\n",
        "def add_message(role, text):\n",
        "    dialogue.append({'role': role, 'content': text})\n",
        "\n",
        "def get_reply(user_text):\n",
        "    add_message('user', user_text)\n",
        "    max_messages = 10\n",
        "    history = dialogue[-max_messages:]\n",
        "\n",
        "    # Формируем промпт с историей\n",
        "    prompt_parts = []\n",
        "    for msg in history:\n",
        "        prompt_parts.append(f\"{msg['role']}: {msg['content']}\")\n",
        "    prompt_parts.append(\"assistant:\")\n",
        "\n",
        "    full_prompt = \"\\n\".join(prompt_parts)\n",
        "\n",
        "    # Получаем ответ от модели\n",
        "    response = groq_chat(full_prompt)\n",
        "\n",
        "    # Добавляем ответ в историю\n",
        "    add_message('assistant', response)\n",
        "\n",
        "    return response\n",
        "\n",
        "# Пример использования\n",
        "add_message('system', 'Ты полезный ассистент по веб-разработке. Отвечай кратко и по делу.')"
      ],
      "metadata": {
        "id": "6eyWxctLPh33"
      },
      "id": "6eyWxctLPh33",
      "execution_count": 6,
      "outputs": []
    },
    {
      "cell_type": "code",
      "execution_count": 14,
      "id": "ccf1d496",
      "metadata": {
        "colab": {
          "base_uri": "https://localhost:8080/",
          "height": 1000
        },
        "id": "ccf1d496",
        "outputId": "f310bc2a-a2e2-41c6-eab7-d32139a767de"
      },
      "outputs": [
        {
          "output_type": "stream",
          "name": "stdout",
          "text": [
            "User: Привет!\n",
            "Assistant:\n"
          ]
        },
        {
          "output_type": "display_data",
          "data": {
            "text/plain": [
              "<IPython.core.display.Markdown object>"
            ],
            "text/markdown": "Серьезно? Еще раз привет? Окей, ладно... Привет! \n\nДавай попробуем иначе: как я могу тебе помочь сегодня?"
          },
          "metadata": {}
        },
        {
          "output_type": "stream",
          "name": "stdout",
          "text": [
            "\n",
            "\n",
            "User: Расскажи про HTML\n",
            "Assistant:\n"
          ]
        },
        {
          "output_type": "display_data",
          "data": {
            "text/plain": [
              "<IPython.core.display.Markdown object>"
            ],
            "text/markdown": "HTML (HyperText Markup Language) — это стандартный язык разметки гипертекста, используемый для создания веб-страниц. Он является основой для любого веб-сайта и используется для определения структуры и содержания веб-страниц.\n\n**Основные элементы HTML:**\n\n1. **Теги** (tags): HTML состоит из тегов, которые используются для разметки элементов на странице. Теги обычно парные, т.е. имеют открывающий и закрывающий теги.\n2. **Элементы** (elements): Элементы HTML — это то, что содержится внутри тегов. Например, текст, изображения, ссылки и т.д.\n3. **Атрибуты** (attributes): Атрибуты — это дополнительные свойства элементов, которые определяют их поведение или внешний вид.\n\n**Некоторые распространенные теги HTML:**\n\n1. **`<html>`**: Корневой элемент HTML-документа.\n2. **`<head>`**: Содержит метаданные о документе, такие как заголовок, кодировка и ссылки на стили.\n3. **`<body>`**: Содержит содержимое веб-страницы.\n4. **`<h1>`-`<h6>`**: Заголовки разных уровней.\n5. **`<p>`**: Абзац текста.\n6. **`<img>`**: Изображение.\n7. **`<a>`**: Ссылка.\n\n**Преимущества HTML:**\n\n1. **Универсальность**: HTML — это стандартный язык, понимаемый всеми браузерами"
          },
          "metadata": {}
        },
        {
          "output_type": "stream",
          "name": "stdout",
          "text": [
            "\n",
            "\n",
            "User: Какую роль играет Pug в HTML\n",
            "Assistant:\n"
          ]
        },
        {
          "output_type": "display_data",
          "data": {
            "text/plain": [
              "<IPython.core.display.Markdown object>"
            ],
            "text/markdown": "Pug (ранее известный как Jade) — это язык шаблонов для Node.js, который позволяет писать HTML-код в более краткой и читаемой форме. Pug не является заменой HTML, а скорее надстройкой над ним, позволяющей упростить процесс создания HTML-документов.\n\n**Роль Pug в HTML:**\n\n1. **Упрощение HTML-кода**: Pug позволяет писать HTML-код в более краткой форме, используя indentation (отступы) для определения структуры документа.\n2. **Автоматическая генерация HTML**: Pug компилирует написанный код в чистый HTML, что позволяет разработчикам не писать однообразный и повторяющийся код.\n3. **Использование переменных и выражений**: Pug позволяет использовать переменные и выражения для динамической генерации контента.\n4. **Включение миксов и функций**: Pug поддерживает возможность включения миксов (смежных фрагментов кода) и функций для повторного использования кода.\n\n**Пример Pug-кода:**\n```pug\nhtml\n  head\n    title Страница\n  body\n    h1 Привет, мир!\n    p Это параграф текста\n```\nЭтот Pug-код компилируется в следующий HTML-код:\n```html\n<html>\n  <head>\n    <title>Страница</title>\n  </head>\n  <body>\n    <h1>Привет, мир!</h1>\n    <p>Это параграф текста</p>\n  </body>\n</html>\n"
          },
          "metadata": {}
        },
        {
          "output_type": "stream",
          "name": "stdout",
          "text": [
            "\n",
            "\n",
            "User: О чем мы общались?\n",
            "Assistant:\n"
          ]
        },
        {
          "output_type": "display_data",
          "data": {
            "text/plain": [
              "<IPython.core.display.Markdown object>"
            ],
            "text/markdown": "Мы общались о:\n\n1. Приветствовали друг друга \n2. Обсуждали HTML (HyperText Markup Language) и его основные элементы, теги, атрибуты и распространенные теги.\n3. Обсуждали роль Pug (Jade) в HTML, как языка шаблонов для Node.js, который упрощает написание HTML-кода и позволяет автоматическую генерацию HTML."
          },
          "metadata": {}
        },
        {
          "output_type": "stream",
          "name": "stdout",
          "text": [
            "\n",
            "\n",
            "User: exit\n",
            "Assistant:\n"
          ]
        },
        {
          "output_type": "display_data",
          "data": {
            "text/plain": [
              "<IPython.core.display.Markdown object>"
            ],
            "text/markdown": "Всего хорошего!"
          },
          "metadata": {}
        },
        {
          "output_type": "stream",
          "name": "stdout",
          "text": [
            "\n",
            "\n"
          ]
        }
      ],
      "source": [
        "# Тестируем диалог\n",
        "msg = None\n",
        "while msg != 'exit':\n",
        "  msg = input('User: ')\n",
        "  print('Assistant:')\n",
        "  display(Markdown(get_reply(msg)))\n",
        "  print('\\n')"
      ]
    },
    {
      "cell_type": "markdown",
      "id": "e2c3a12d",
      "metadata": {
        "id": "e2c3a12d"
      },
      "source": [
        "## 4) Углублённый RAG (Retrieval‑Augmented Generation)\n",
        "\n",
        "**Идея:** использовать базу знаний (например, документацию по веб‑разработке), искать релевантные фрагменты и подставлять их в контекст ответа.  \n",
        "Мы будем использовать:\n",
        "- Sentence‑Transformers для эмбеддингов,  \n",
        "- FAISS для поиска ближайших соседей,  \n",
        "- LangChain + Groq для генерации ответа.  \n"
      ]
    },
    {
      "cell_type": "code",
      "execution_count": 21,
      "id": "0b08d6b6",
      "metadata": {
        "colab": {
          "base_uri": "https://localhost:8080/"
        },
        "id": "0b08d6b6",
        "outputId": "59b1fd43-be4d-4fb3-b6d7-bf0cc2d9fb60"
      },
      "outputs": [
        {
          "output_type": "stream",
          "name": "stdout",
          "text": [
            "CSS позволяет создавать анимационные элементы и композиции для веб-страниц.\n"
          ]
        }
      ],
      "source": [
        "from sentence_transformers import SentenceTransformer\n",
        "import faiss\n",
        "import numpy as np\n",
        "from langchain_groq import ChatGroq\n",
        "from langchain import PromptTemplate, LLMChain\n",
        "\n",
        "# Документы (простейшие подсказки по веб‑разработке)\n",
        "docs = [\n",
        "    \"HTML используется для структуры веб‑страницы. Теги определяют элементы: заголовки, параграфы, ссылки.\",\n",
        "    \"C помощью CSS можно создавать полноценные анимационные элементы и даже целые композиции без использования JavaScript.\",\n",
        "    \"JavaScript позволяет добавить интерактивность на сайт: обработка событий, анимации, AJAX-запросы.\",\n",
        "    \"Python часто используется на сервере (например, с Django или Flask) для обработки запросов и работы с базами данных.\",\n",
        "    \"React - популярная JavaScript библиотека для создания пользовательских интерфейсов с компонентным подходом.\",\n",
        "    \"Базы данных хранят информацию. SQL базы (MySQL, PostgreSQL) и NoSQL (MongoDB) имеют разные подходы к хранению данных.\",\n",
        "    \"API (Application Programming Interface) позволяет программам общаться друг с другом. REST API использует HTTP методы.\",\n",
        "    \"Веб-безопасность включает HTTPS, валидацию входных данных, защиту от XSS и CSRF атак.\"\n",
        "]\n",
        "\n",
        "# Эмбеддинги\n",
        "emb_model = SentenceTransformer('all-MiniLM-L6-v2')\n",
        "doc_embs = emb_model.encode(docs, convert_to_numpy=True)\n",
        "\n",
        "# FAISS\n",
        "d = doc_embs.shape[1]\n",
        "index = faiss.IndexFlatL2(d)\n",
        "index.add(doc_embs)\n",
        "\n",
        "def retrieve(query, k=2):\n",
        "    q_emb = emb_model.encode([query], convert_to_numpy=True)\n",
        "    D, I = index.search(q_emb, k=k)\n",
        "    return [docs[i] for i in I[0]]\n",
        "\n",
        "# Groq LLM\n",
        "llm = ChatGroq(model='meta-llama/llama-4-scout-17b-16e-instruct')\n",
        "\n",
        "prompt = PromptTemplate(\n",
        "    input_variables=['context','question'],\n",
        "    template=\"\"\"Ты — помощник веб‑разработчика. Используй контекст и ответь на вопрос.\n",
        "Контекст:\n",
        "{context}\n",
        "\n",
        "Вопрос: {question}\n",
        "Ответ (кратко и понятно):\"\"\"\n",
        ")\n",
        "chain = LLMChain(llm=llm, prompt=prompt)\n",
        "\n",
        "def rag_answer(query):\n",
        "    context = \"\\n\".join(retrieve(query, k=2))\n",
        "    return chain.run({'context': context, 'question': query})\n",
        "\n",
        "print(rag_answer(\"Что делает CSS?\"))"
      ]
    },
    {
      "cell_type": "markdown",
      "id": "009415bb",
      "metadata": {
        "id": "009415bb"
      },
      "source": [
        "## 5) Проверка и базовая валидация ответа\n",
        "Чтобы убедиться, что ответ модели корректный:\n",
        "- Проверяем, что строка непустая.  \n",
        "- Можно добавить правила: ответ не слишком длинный, не содержит запрещённых слов.  \n",
        "Простейший пример ниже."
      ]
    },
    {
      "cell_type": "code",
      "execution_count": 32,
      "id": "e3c95b2d",
      "metadata": {
        "colab": {
          "base_uri": "https://localhost:8080/"
        },
        "id": "e3c95b2d",
        "outputId": "9abd895e-06c3-4bfd-ba88-5917954be996"
      },
      "outputs": [
        {
          "output_type": "stream",
          "name": "stdout",
          "text": [
            "Ответ: HTML (HyperText Markup Language) — стандартный язык разметки гипертекста, который используется для создания структуры и содержания веб-страниц. С помощью HTML определяются элементы веб-страницы, такие как заголовки, параграфы, ссылки, изображения и другие. HTML состоит из набора тегов, которые заключаются в угловые скобки и используются для wrapping контента и придания ему определенного смысла.\n",
            "Валидированный: Извините, я не могу ответить на этот вопрос.\n"
          ]
        }
      ],
      "source": [
        "def validate_answer(answer: str) -> str:\n",
        "    forbidden_words = ['HTML', 'HyperText', 'Markup']\n",
        "    if any(word in answer.split() for word in forbidden_words):\n",
        "        return \"Извините, я не могу ответить на этот вопрос.\"\n",
        "    return answer\n",
        "\n",
        "# Пример\n",
        "raw = rag_answer(\"Расскажи про HTML.\")\n",
        "print(\"Ответ:\", raw)\n",
        "print(\"Валидированный:\", validate_answer(raw))"
      ]
    },
    {
      "cell_type": "code",
      "source": [
        "# Пример с LangChain (упрощённо)\n",
        "from langchain.chains import LLMChain\n",
        "from langchain.prompts import PromptTemplate\n",
        "\n",
        "template = \"\"\"Ты — полезный ассистент.\n",
        "Вопрос: {question}\n",
        "Ответ:\"\"\"\n",
        "prompt = PromptTemplate(input_variables=['question'], template=template)\n",
        "\n",
        "chain = LLMChain(llm=llm, prompt=prompt)\n",
        "\n",
        "def langchain_answer(question):\n",
        "    return chain.run(question)"
      ],
      "metadata": {
        "id": "089MlUqiUYzv"
      },
      "id": "089MlUqiUYzv",
      "execution_count": 34,
      "outputs": []
    },
    {
      "cell_type": "code",
      "source": [
        "display(Markdown('LangChain: пример создания LLMChain и PromptTemplate.'))\n",
        "display(Markdown(langchain_answer('Как организовать заметки по проекту?')))"
      ],
      "metadata": {
        "colab": {
          "base_uri": "https://localhost:8080/",
          "height": 470
        },
        "id": "auiFewyJUgUv",
        "outputId": "e034c8c4-5b55-4ff2-9429-1c6100b14a0f"
      },
      "id": "auiFewyJUgUv",
      "execution_count": 36,
      "outputs": [
        {
          "output_type": "display_data",
          "data": {
            "text/plain": [
              "<IPython.core.display.Markdown object>"
            ],
            "text/markdown": "LangChain: пример создания LLMChain и PromptTemplate."
          },
          "metadata": {}
        },
        {
          "output_type": "display_data",
          "data": {
            "text/plain": [
              "<IPython.core.display.Markdown object>"
            ],
            "text/markdown": "Существует множество способов организовать заметки по проекту, и лучший подход будет зависеть от ваших личных предпочтений, типа проекта и количества заметок, которые вы делаете. Вот несколько популярных методов:\n\n1. **Папка или Binder**: Храните все свои заметки в физической папке или binder, помеченной названием проекта. Это может включать бумажные заметки, встречи, электронные письма и другие соответствующие документы.\n\n2. **Цифровые приложения для заметок**: Используйте приложения для заметок, такие как Evernote, OneNote, Simplenote или Google Keep. Эти приложения позволяют вам создавать, организовывать и искать заметки по ключевым словам, тегам или папкам.\n\n3. **Системы тегов или категорий**: Организуйте свои заметки с помощью системы тегов или категорий. Например, вы можете использовать теги для разных тем, таких как «Встречи», «Задачи», «Идеи» или «Проблемы». \n\n4. **Хронологическая организация**: Храните свои заметки в хронологическом порядке, с самыми новыми заметками сверху или снизу. Это особенно полезно для отслеживания прогресса со временем.\n\n5. **Шаблоны для встреч**: Создайте шаблон для заметок во время встреч, который может включать поля для даты, участников, повестки дня и выводов. Это помогает обеспечить, что вы всегда фиксируете ключевую информацию.\n\n6. **Инструменты управления проектами**: Многие инструменты управления проектами, такие как Trello, Asana или Notion, позволяют интегрировать заметки прямо в задачи или использовать их как отдельный документ в контексте проекта.\n\n7. **Заметки, организованные по действиям**: Организуйте свои заметки на основе необходимых действий или решений. Например, вы можете иметь список «К исполнению», «К обсуждению» и «К сведению».\n\n8. **Карточки или стикеры**: Используйте физические карточки или стикеры для быстрых заметок и организуйте их на доске или стене. Это полезно для визуального и тактильного подхода к заметкам.\n\nНезависимо от выбранного метода, важно регулярно просматривать и 정리вать свои заметки, чтобы информация оставалась актуальной и легко доступной."
          },
          "metadata": {}
        }
      ]
    },
    {
      "cell_type": "code",
      "source": [
        "from sentence_transformers import SentenceTransformer\n",
        "import numpy as np\n",
        "import faiss\n",
        "\n",
        "model = SentenceTransformer('all-MiniLM-L6-v2')\n",
        "\n",
        "texts = [\n",
        "    'Как приготовить борщ: основные шаги.',\n",
        "    'Инструкция по установке Python на Windows.',\n",
        "    'Советы по продуктивности при работе из дома.',\n",
        "    'Основы веб-разработки: HTML, CSS, JavaScript.',\n",
        "    'Как настроить виртуальное окружение в Python.',\n",
        "    'Базы данных: SQL vs NoSQL, основные различия.',\n",
        "    'Введение в машинное обучение для начинающих.',\n",
        "    'Как создать REST API на Flask.'\n",
        "]\n",
        "\n",
        "# Создаем эмбеддинги\n",
        "embeddings = model.encode(texts, convert_to_numpy=True)\n",
        "\n",
        "# Создаем FAISS индекс\n",
        "d = embeddings.shape[1]\n",
        "index = faiss.IndexFlatL2(d)\n",
        "index.add(embeddings)\n",
        "\n",
        "# Поиск похожих текстов\n",
        "query = \"веб-разработка\"\n",
        "q_emb = model.encode([query], convert_to_numpy=True)\n",
        "D, I = index.search(q_emb, k=3)\n",
        "print('Результаты поиска (индексы похожих текстов):', I[0])\n",
        "for idx in I[0]:\n",
        "    print('-', texts[idx])"
      ],
      "metadata": {
        "colab": {
          "base_uri": "https://localhost:8080/"
        },
        "id": "nuPV5l2ZVqDE",
        "outputId": "8467792e-f234-4ddc-9834-224a14d4e637"
      },
      "id": "nuPV5l2ZVqDE",
      "execution_count": 40,
      "outputs": [
        {
          "output_type": "stream",
          "name": "stdout",
          "text": [
            "Результаты поиска (индексы похожих текстов): [3 2 6]\n",
            "- Основы веб-разработки: HTML, CSS, JavaScript.\n",
            "- Советы по продуктивности при работе из дома.\n",
            "- Введение в машинное обучение для начинающих.\n"
          ]
        }
      ]
    },
    {
      "cell_type": "markdown",
      "id": "49ac9379",
      "metadata": {
        "id": "49ac9379"
      },
      "source": [
        "## 6) Практические советы\n",
        "- **Ключи:** храните GROQ_API_KEY и TELEGRAM_BOT_TOKEN в переменных окружения.  \n",
        "- **Деплой:** для постоянной работы бота используйте сервер или хостинг (например, Railway/Render).  \n",
        "- **RAG:** используйте свои документы (FAQ, мануалы), чтобы бот отвечал именно по вашей базе знаний.  \n",
        "- **Валидация:** всегда проверяйте, что ответы модели адекватны (пустые, слишком длинные или не по теме — фильтруйте).  \n"
      ]
    }
  ],
  "metadata": {
    "colab": {
      "provenance": [],
      "include_colab_link": true
    },
    "language_info": {
      "name": "python"
    },
    "kernelspec": {
      "name": "python3",
      "display_name": "Python 3"
    }
  },
  "nbformat": 4,
  "nbformat_minor": 5
}